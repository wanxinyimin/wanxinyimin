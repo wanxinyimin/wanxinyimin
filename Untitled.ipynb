{
 "cells": [
  {
   "cell_type": "code",
   "execution_count": 6,
   "metadata": {},
   "outputs": [],
   "source": [
    "import numpy as np \n",
    "import pandas as pd\n",
    "import pandas_datareader as data\n",
    "import sqlite3"
   ]
  },
  {
   "cell_type": "code",
   "execution_count": 7,
   "metadata": {},
   "outputs": [
    {
     "ename": "ModuleNotFoundError",
     "evalue": "No module named 'tushare'",
     "output_type": "error",
     "traceback": [
      "\u001b[0;31m---------------------------------------------------------------------------\u001b[0m",
      "\u001b[0;31mModuleNotFoundError\u001b[0m                       Traceback (most recent call last)",
      "\u001b[0;32m<ipython-input-7-b1fb24f00b81>\u001b[0m in \u001b[0;36m<module>\u001b[0;34m\u001b[0m\n\u001b[1;32m      5\u001b[0m \u001b[0;32mfor\u001b[0m \u001b[0mtrading\u001b[0m \u001b[0mdata\u001b[0m\u001b[0;34m\u001b[0m\u001b[0;34m\u001b[0m\u001b[0m\n\u001b[1;32m      6\u001b[0m \"\"\"\n\u001b[0;32m----> 7\u001b[0;31m from tushare.stock.trading import (get_hist_data, get_tick_data,\n\u001b[0m\u001b[1;32m      8\u001b[0m                                    \u001b[0mget_today_all\u001b[0m\u001b[0;34m,\u001b[0m \u001b[0mget_realtime_quotes\u001b[0m\u001b[0;34m,\u001b[0m\u001b[0;34m\u001b[0m\u001b[0;34m\u001b[0m\u001b[0m\n\u001b[1;32m      9\u001b[0m                                    \u001b[0mget_h_data\u001b[0m\u001b[0;34m,\u001b[0m \u001b[0mget_today_ticks\u001b[0m\u001b[0;34m,\u001b[0m\u001b[0;34m\u001b[0m\u001b[0;34m\u001b[0m\u001b[0m\n",
      "\u001b[0;31mModuleNotFoundError\u001b[0m: No module named 'tushare'"
     ]
    }
   ],
   "source": [
    "__version__ = '0.4.8'\n",
    "__author__ = 'Jimmy Liu'\n",
    "\n",
    "\"\"\"\n",
    "for trading data\n",
    "\"\"\"\n",
    "from tushare.stock.trading import (get_hist_data, get_tick_data,\n",
    "                                   get_today_all, get_realtime_quotes,\n",
    "                                   get_h_data, get_today_ticks,\n",
    "                                   get_index, get_hists,\n",
    "                                   get_sina_dd)\n",
    "\n",
    "\"\"\"\n",
    "for trading data\n",
    "\"\"\"\n",
    "from tushare.stock.fundamental import (get_stock_basics, get_report_data,\n",
    "                                       get_profit_data,\n",
    "                                       get_operation_data, get_growth_data,\n",
    "                                       get_debtpaying_data, get_cashflow_data)\n",
    "\n",
    "\"\"\"\n",
    "for macro data\n",
    "\"\"\"\n",
    "from tushare.stock.macro import (get_gdp_year, get_gdp_quarter,\n",
    "                                 get_gdp_for, get_gdp_pull,\n",
    "                                 get_gdp_contrib, get_cpi,\n",
    "                                 get_ppi, get_deposit_rate,\n",
    "                                 get_loan_rate, get_rrr,\n",
    "                                 get_money_supply, get_money_supply_bal)\n",
    "\n",
    "\"\"\"\n",
    "for classifying data\n",
    "\"\"\"\n",
    "from tushare.stock.classifying import (get_industry_classified, get_concept_classified,\n",
    "                                       get_area_classified, get_gem_classified,\n",
    "                                       get_sme_classified, get_st_classified,\n",
    "                                       get_hs300s, get_sz50s, get_zz500s,\n",
    "                                       get_terminated, get_suspended)\n",
    "\n",
    "\"\"\"\n",
    "for macro data\n",
    "\"\"\"\n",
    "from tushare.stock.newsevent import (get_latest_news, latest_content,\n",
    "                                     get_notices, notice_content,\n",
    "                                     guba_sina)\n",
    "\n",
    "\"\"\"\n",
    "for reference\n",
    "\"\"\"\n",
    "from tushare.stock.reference import (profit_data, forecast_data,\n",
    "                                     xsg_data, fund_holdings,\n",
    "                                     new_stocks, sh_margins,\n",
    "                                     sh_margin_details,\n",
    "                                     sz_margins, sz_margin_details)\n",
    "\n",
    "\"\"\"\n",
    "for shibor\n",
    "\"\"\"\n",
    "from tushare.stock.shibor import (shibor_data, shibor_quote_data,\n",
    "                                  shibor_ma_data, lpr_data,\n",
    "                                  lpr_ma_data)\n",
    "\n",
    "\"\"\"\n",
    "for LHB\n",
    "\"\"\"\n",
    "from tushare.stock.billboard import (top_list, cap_tops, broker_tops,\n",
    "                                     inst_tops, inst_detail)\n",
    "\n",
    "\n",
    "\"\"\"\n",
    "for DataYes Token\n",
    "\"\"\"\n",
    "from tushare.util.upass import (set_token, get_token)\n",
    "\n",
    "from tushare.datayes.api import *\n",
    "\n",
    "from tushare.internet.boxoffice import (realtime_boxoffice, day_boxoffice,\n",
    "                                        day_cinema, month_boxoffice)"
   ]
  },
  {
   "cell_type": "code",
   "execution_count": null,
   "metadata": {},
   "outputs": [],
   "source": []
  }
 ],
 "metadata": {
  "kernelspec": {
   "display_name": "Python 3",
   "language": "python",
   "name": "python3"
  },
  "language_info": {
   "codemirror_mode": {
    "name": "ipython",
    "version": 3
   },
   "file_extension": ".py",
   "mimetype": "text/x-python",
   "name": "python",
   "nbconvert_exporter": "python",
   "pygments_lexer": "ipython3",
   "version": "3.7.4"
  }
 },
 "nbformat": 4,
 "nbformat_minor": 2
}
